{
 "cells": [
  {
   "cell_type": "markdown",
   "id": "18e95ab2",
   "metadata": {},
   "source": [
    "Lab1 Concentrates on first 3 experiments of syllabus\n",
    "\n",
    "a) Demonstrate about Basics of Python Programming\n",
    "\n",
    "b) Demonstrate about fundamental Data types in Python Programming\n",
    "\n",
    "c) Demonstrate different Arithmetic Operations on numbers in Python\n",
    "\n",
    "The objective is to familiarise students without computer background to make simple programs using python. And to develop the sequential thinking."
   ]
  },
  {
   "cell_type": "markdown",
   "id": "a8d71f45",
   "metadata": {},
   "source": [
    "# 1. Find whether given number is odd or even"
   ]
  },
  {
   "cell_type": "code",
   "execution_count": 35,
   "id": "20baaa0b",
   "metadata": {},
   "outputs": [
    {
     "name": "stdout",
     "output_type": "stream",
     "text": [
      "Odd\n"
     ]
    }
   ],
   "source": [
    "num = 5\n",
    "if num % 2 == 1:\n",
    "    print(\"Odd\")\n",
    "else:\n",
    "    print(\"Even\")"
   ]
  },
  {
   "cell_type": "code",
   "execution_count": 36,
   "id": "53dbd30d",
   "metadata": {},
   "outputs": [
    {
     "name": "stdout",
     "output_type": "stream",
     "text": [
      "Enter number:4\n",
      "<class 'str'>\n"
     ]
    }
   ],
   "source": [
    "#This is how you write comments in python. Comments are for humans to read. Computer will not read your comments!\n",
    "#Lets try to input the number from user. Let's first see what input() function return type is?\n",
    "num = input(\"Enter number:\")\n",
    "print(type(num))"
   ]
  },
  {
   "cell_type": "code",
   "execution_count": 37,
   "id": "19857777",
   "metadata": {},
   "outputs": [
    {
     "name": "stdout",
     "output_type": "stream",
     "text": [
      "Enter number:4\n",
      "44\n"
     ]
    }
   ],
   "source": [
    "#Its a string. We cannot do mathematical operations on it. So if we do num+num we get concatenation instead of sum\n",
    "num = input(\"Enter number:\")\n",
    "print(num+num)"
   ]
  },
  {
   "cell_type": "code",
   "execution_count": 38,
   "id": "52d9924c",
   "metadata": {},
   "outputs": [
    {
     "name": "stdout",
     "output_type": "stream",
     "text": [
      "Enter number:4\n",
      "<class 'int'>\n",
      "8\n"
     ]
    }
   ],
   "source": [
    "#Let's use builtin function int() to convert type. input(), print() & type() are other builtin functions\n",
    "num = input(\"Enter number:\")\n",
    "num_i = int(num)\n",
    "print(type(num_i))\n",
    "print(num_i + num_i)"
   ]
  },
  {
   "cell_type": "code",
   "execution_count": 39,
   "id": "901daa5e",
   "metadata": {},
   "outputs": [
    {
     "name": "stdout",
     "output_type": "stream",
     "text": [
      "Enter number:4\n",
      "Even\n"
     ]
    }
   ],
   "source": [
    "#Let's now do the full program\n",
    "num=int(input(\"Enter number:\"))\n",
    "if num % 2 == 1:\n",
    "    print(\"Odd\")\n",
    "else:\n",
    "    print(\"Even\")"
   ]
  },
  {
   "cell_type": "markdown",
   "id": "eab9c340",
   "metadata": {},
   "source": [
    "# 2. Display the lowest of the two numbers given"
   ]
  },
  {
   "cell_type": "code",
   "execution_count": 40,
   "id": "83d463d1",
   "metadata": {},
   "outputs": [],
   "source": [
    "#Inputs\n",
    "num1 = 5\n",
    "num2 = 7"
   ]
  },
  {
   "cell_type": "code",
   "execution_count": 41,
   "id": "4b897218",
   "metadata": {},
   "outputs": [
    {
     "name": "stdout",
     "output_type": "stream",
     "text": [
      "5 is the lowest\n"
     ]
    }
   ],
   "source": [
    "#Program\n",
    "if num1 < num2:\n",
    "    print(num1, \"is the lowest\")\n",
    "else:\n",
    "    print(num2, \"is the lowest\")\n"
   ]
  },
  {
   "cell_type": "code",
   "execution_count": 42,
   "id": "6f2cdc36",
   "metadata": {},
   "outputs": [
    {
     "name": "stdout",
     "output_type": "stream",
     "text": [
      "5 is the lowest\n"
     ]
    }
   ],
   "source": [
    "#Another solution: Less typing\n",
    "if num1 < num2:\n",
    "    lowest = num1\n",
    "else:\n",
    "    lowest = num2\n",
    "print(lowest, \"is the lowest\")"
   ]
  },
  {
   "cell_type": "markdown",
   "id": "4f576bb5",
   "metadata": {},
   "source": [
    "#### EXERCISE: Now use other comparison operators like <= , >, >= to solve the problem."
   ]
  },
  {
   "cell_type": "markdown",
   "id": "aebb6a9e",
   "metadata": {},
   "source": [
    "#### EXERCISE: What happens if you change the type of num1 and num2 to float, string etc.? Observe the results."
   ]
  },
  {
   "cell_type": "code",
   "execution_count": 43,
   "id": "375ca942",
   "metadata": {},
   "outputs": [],
   "source": [
    "#Floats\n",
    "#Inputs\n",
    "num1 = 5.0\n",
    "num2 = 7.0"
   ]
  },
  {
   "cell_type": "code",
   "execution_count": 44,
   "id": "a215507c",
   "metadata": {},
   "outputs": [],
   "source": [
    "#Strings\n",
    "#Inputs\n",
    "num1 = \"5\"\n",
    "num2 = \"7\""
   ]
  },
  {
   "cell_type": "code",
   "execution_count": 45,
   "id": "1c033331",
   "metadata": {},
   "outputs": [],
   "source": [
    "#Try this string also\n",
    "#Inputs\n",
    "num1 = \"55\"\n",
    "num2 = \"7\""
   ]
  },
  {
   "cell_type": "markdown",
   "id": "eadbe8f9",
   "metadata": {},
   "source": [
    "#### MORAL: String comparison works different from integer comparison"
   ]
  },
  {
   "cell_type": "markdown",
   "id": "6f8de445",
   "metadata": {},
   "source": [
    "# 3. Display the lowest of a list of numbers"
   ]
  },
  {
   "cell_type": "code",
   "execution_count": 46,
   "id": "a8f3f9d7",
   "metadata": {},
   "outputs": [],
   "source": [
    "#Define the input list\n",
    "L=[10, 5, 3, 2, 6, 7]"
   ]
  },
  {
   "cell_type": "code",
   "execution_count": 47,
   "id": "a97ec883",
   "metadata": {},
   "outputs": [
    {
     "name": "stdout",
     "output_type": "stream",
     "text": [
      "[10, 5, 3, 2, 6, 7]\n",
      "<class 'list'>\n"
     ]
    }
   ],
   "source": [
    "#Can we print the list? What will type() say?\n",
    "print(L)\n",
    "print(type(L))"
   ]
  },
  {
   "cell_type": "code",
   "execution_count": 48,
   "id": "b8b6c6ab",
   "metadata": {},
   "outputs": [
    {
     "name": "stdout",
     "output_type": "stream",
     "text": [
      "2\n"
     ]
    }
   ],
   "source": [
    "#Program\n",
    "lowest=L[0] #Assign zero'th element of list to variable lowest. Indexing a list\n",
    "for num in L:\n",
    "    if num < lowest:\n",
    "        lowest = num\n",
    "print(lowest)"
   ]
  },
  {
   "cell_type": "markdown",
   "id": "1e866be2",
   "metadata": {},
   "source": [
    "#### EXERCISE: Print just the 3rd element of the list."
   ]
  },
  {
   "cell_type": "markdown",
   "id": "ab5f7653",
   "metadata": {},
   "source": [
    "#### EXERCISE: Find the largest number in list"
   ]
  },
  {
   "cell_type": "markdown",
   "id": "9d0b0a75",
   "metadata": {},
   "source": [
    "![image](https://nustat.github.io/DataScience_Intro_python/datatypes.png)"
   ]
  },
  {
   "cell_type": "code",
   "execution_count": 49,
   "id": "010d1005",
   "metadata": {},
   "outputs": [
    {
     "name": "stdout",
     "output_type": "stream",
     "text": [
      "False\n",
      "<class 'bool'>\n"
     ]
    }
   ],
   "source": [
    "#Ok, we saw int, float, str and list. We will look at Tuple and Dictionary as need arises\n",
    "#What about Boolean and None?\n",
    "#Let's assign the comparison operator output to a variable and check it's type\n",
    "num1 = 5\n",
    "num2 = 7\n",
    "num1IsBig = num1 > num2\n",
    "print(num1IsBig)\n",
    "print(type(num1IsBig))"
   ]
  },
  {
   "cell_type": "code",
   "execution_count": 50,
   "id": "2fa19c0a",
   "metadata": {},
   "outputs": [
    {
     "name": "stdout",
     "output_type": "stream",
     "text": [
      "F\n",
      "<class 'bool'>\n"
     ]
    }
   ],
   "source": [
    "#Comparison results are of type boolean Possible values are True & False. Notice capital T and F. Also notice, that\n",
    "#it is not a string. ie. Not \"True\" or \"False\"\n",
    "result = False\n",
    "if result:\n",
    "    print(\"T\")\n",
    "else:\n",
    "    print(\"F\")\n",
    "print(type(result))"
   ]
  },
  {
   "cell_type": "markdown",
   "id": "53f7a73c",
   "metadata": {},
   "source": [
    "#### EXERCISE: Try giving small letter true and false"
   ]
  },
  {
   "cell_type": "code",
   "execution_count": 51,
   "id": "9634d7a0",
   "metadata": {},
   "outputs": [
    {
     "name": "stdout",
     "output_type": "stream",
     "text": [
      "None\n",
      "<class 'NoneType'>\n",
      "Enter Roll#:\n",
      "None\n",
      "<class 'NoneType'>\n"
     ]
    }
   ],
   "source": [
    "#Sometimes we want to create a variable. But not assign any valid value to it. That's where None type helps us\n",
    "\n",
    "#Here a fresh student may not yet have a roll number. So the advisor can enter blank roll no or a negative roll no\n",
    "# to not assign a roll number to the student\n",
    "roll = None\n",
    "print(roll)\n",
    "print(type(roll))\n",
    "num_s = input(\"Enter Roll#:\")\n",
    "if num_s != \"\":\n",
    "    roll = int(num_s)\n",
    "    if roll < 0:\n",
    "        roll = None\n",
    "print(roll)\n",
    "print(type(roll))\n",
    "if roll:\n",
    "    print(\"Has got roll no\")"
   ]
  },
  {
   "cell_type": "markdown",
   "id": "ecbfc218",
   "metadata": {},
   "source": [
    "The advantage of none type may not be very obvious with above example. But there are more advanced cases involving classes and member functions(object oriented and functional programming) where None type helps a lot in simplifying code..."
   ]
  },
  {
   "cell_type": "markdown",
   "id": "c92fe302",
   "metadata": {},
   "source": [
    "# 4. Find and display sum of all numbers of a list"
   ]
  },
  {
   "cell_type": "code",
   "execution_count": 52,
   "id": "cfa5646b",
   "metadata": {},
   "outputs": [],
   "source": [
    "#Input\n",
    "L=[1, 3, 5, 7, 9, 11, 13]"
   ]
  },
  {
   "cell_type": "code",
   "execution_count": 53,
   "id": "ce3c6a3e",
   "metadata": {},
   "outputs": [
    {
     "name": "stdout",
     "output_type": "stream",
     "text": [
      "49\n"
     ]
    }
   ],
   "source": [
    "#Program\n",
    "s = 0\n",
    "for item in L:\n",
    "    s = s + item\n",
    "print(s)"
   ]
  },
  {
   "cell_type": "markdown",
   "id": "63cd3686",
   "metadata": {},
   "source": [
    "#### EXERCISE: Try other arithmetic operators: +, - , *, /, **, //, %"
   ]
  },
  {
   "cell_type": "markdown",
   "id": "63a4cdac",
   "metadata": {},
   "source": [
    "# Following Programs are to develop the logic of students, and should be solved by students using already learned python syntax"
   ]
  },
  {
   "cell_type": "markdown",
   "id": "6791297e",
   "metadata": {},
   "source": [
    "# 5. Find the lowest odd number in a list"
   ]
  },
  {
   "cell_type": "code",
   "execution_count": 54,
   "id": "dda8a4e7",
   "metadata": {},
   "outputs": [],
   "source": [
    "#Input\n",
    "L=[2, 3, 5, 7, 9, 11, 13]\n",
    "#L=[2, 4, 6, 8]"
   ]
  },
  {
   "cell_type": "code",
   "execution_count": 55,
   "id": "98b2b84e",
   "metadata": {},
   "outputs": [
    {
     "name": "stdout",
     "output_type": "stream",
     "text": [
      "Lowest odd: 3\n"
     ]
    }
   ],
   "source": [
    "#Program\n",
    "\n",
    "#First extract the odd numbers to a new list named odds[]\n",
    "odds = []\n",
    "for item in L:\n",
    "    if item % 2 == 1:\n",
    "        odds.append(item)\n",
    "\n",
    "#Find the lowest number in the list odds[]\n",
    "lowest = odds[0]\n",
    "for num in odds:\n",
    "    if num < lowest:\n",
    "        lowest = num\n",
    "\n",
    "print(\"Lowest odd:\", lowest)"
   ]
  },
  {
   "cell_type": "code",
   "execution_count": 56,
   "id": "d5eb268c",
   "metadata": {},
   "outputs": [
    {
     "name": "stdout",
     "output_type": "stream",
     "text": [
      "lowest odd: 3\n"
     ]
    }
   ],
   "source": [
    "#Another Program\n",
    "#Find some odd number and use that to initialize lowest.\n",
    "lowest = None\n",
    "for item in L:\n",
    "    if item%2 == 1:\n",
    "        lowest = item\n",
    "if not lowest:\n",
    "    print(\"No odd numbers in list\")\n",
    "else:\n",
    "    \n",
    "    #Then it is mostly same as the problem 3\n",
    "    for item in L:\n",
    "        if item %2 == 1 and item < lowest:\n",
    "            lowest = item\n",
    "    print(\"lowest odd:\", lowest)"
   ]
  },
  {
   "cell_type": "markdown",
   "id": "76f36b76",
   "metadata": {},
   "source": [
    "# 6. Count the number of odd numbers in a list"
   ]
  },
  {
   "cell_type": "code",
   "execution_count": 57,
   "id": "b787197e",
   "metadata": {},
   "outputs": [],
   "source": [
    "#Input\n",
    "L=[2, 3, 5, 7, 9, 11, 13]\n",
    "#L=[2, 4, 6, 8]"
   ]
  },
  {
   "cell_type": "code",
   "execution_count": 58,
   "id": "802abebd",
   "metadata": {},
   "outputs": [
    {
     "name": "stdout",
     "output_type": "stream",
     "text": [
      "odd count: 6\n"
     ]
    }
   ],
   "source": [
    "#Program\n",
    "count = 0\n",
    "for item in L:\n",
    "    if item % 2 == 1:\n",
    "        count = count + 1\n",
    "\n",
    "print(\"odd count:\", count)"
   ]
  },
  {
   "cell_type": "code",
   "execution_count": 59,
   "id": "3c50c135",
   "metadata": {},
   "outputs": [
    {
     "name": "stdout",
     "output_type": "stream",
     "text": [
      "odd count: 6\n"
     ]
    }
   ],
   "source": [
    "#Another way\n",
    "count = 0\n",
    "for item in L:\n",
    "    if item % 2 == 1:\n",
    "        count += 1    #Shortcut for count =  count + 1\n",
    "\n",
    "print(\"odd count:\", count)"
   ]
  },
  {
   "cell_type": "markdown",
   "id": "b0c1c6e9",
   "metadata": {},
   "source": [
    "#### EXERCISE: Familiarise with other assignment operators -=, *=, /=, //=, %=, **= ..."
   ]
  },
  {
   "cell_type": "markdown",
   "id": "bd710b4b",
   "metadata": {},
   "source": [
    "# 7. Find sum of every alternate number in a list"
   ]
  },
  {
   "cell_type": "code",
   "execution_count": 60,
   "id": "102ef948",
   "metadata": {},
   "outputs": [],
   "source": [
    "#Input\n",
    "L=[2, 3, 5, 7, 9, 11, 13]\n",
    "#L=[2, 4, 6, 8]"
   ]
  },
  {
   "cell_type": "code",
   "execution_count": 61,
   "id": "2942ae06",
   "metadata": {},
   "outputs": [
    {
     "name": "stdout",
     "output_type": "stream",
     "text": [
      "29\n"
     ]
    }
   ],
   "source": [
    "#Program: L[0] + L[2] + L[4] + ...\n",
    "pos=\"even\"\n",
    "sum = 0\n",
    "for item in L:\n",
    "    if pos == \"even\":\n",
    "        sum += item\n",
    "        pos = \"odd\"\n",
    "    else:\n",
    "        pos = \"even\"\n",
    "print(sum)"
   ]
  },
  {
   "cell_type": "code",
   "execution_count": 62,
   "id": "d82c606f",
   "metadata": {},
   "outputs": [
    {
     "name": "stdout",
     "output_type": "stream",
     "text": [
      "29\n"
     ]
    }
   ],
   "source": [
    "#More compact:\n",
    "sum = 0\n",
    "for idx in range(len(L)):\n",
    "    if idx%2 == 0:\n",
    "        sum += L[idx]\n",
    "print(sum)"
   ]
  },
  {
   "cell_type": "code",
   "execution_count": 63,
   "id": "435696fa",
   "metadata": {},
   "outputs": [
    {
     "name": "stdout",
     "output_type": "stream",
     "text": [
      "0\n",
      "1\n",
      "2\n",
      "3\n",
      "4\n",
      "5\n",
      "6\n",
      "7\n",
      "8\n",
      "9\n",
      "range(0, 10)\n",
      "<class 'range'>\n",
      "[0, 1, 2, 3, 4, 5, 6, 7, 8, 9]\n",
      "<class 'list'>\n"
     ]
    }
   ],
   "source": [
    "#Familiarise the range function by tweaking this. For all practical purpose you can consider it returning a list\n",
    "# of numbers starting 0 and incrementing to one count before the range's input\n",
    "for idx in range(10):\n",
    "    print(idx)\n",
    "    \n",
    "print(range(10))\n",
    "print(type(range(10)))\n",
    "print(list(range(10)))\n",
    "print(type(list(range(10))))"
   ]
  },
  {
   "cell_type": "code",
   "execution_count": 64,
   "id": "18d8f818",
   "metadata": {},
   "outputs": [
    {
     "name": "stdout",
     "output_type": "stream",
     "text": [
      "0\n",
      "2\n",
      "4\n",
      "6\n",
      "Sum: 29\n"
     ]
    }
   ],
   "source": [
    "#More compact\n",
    "sum = 0\n",
    "for idx in range(0, len(L), 2):\n",
    "    print(idx)\n",
    "    sum += L[idx]\n",
    "print(\"Sum:\", sum)"
   ]
  },
  {
   "cell_type": "markdown",
   "id": "6da21e8a",
   "metadata": {},
   "source": [
    "# 8. Find sum of all odd numbers in a list"
   ]
  },
  {
   "cell_type": "code",
   "execution_count": 65,
   "id": "c2a9443b",
   "metadata": {},
   "outputs": [],
   "source": [
    "#Input\n",
    "L=[2, 3, 5, 7, 9, 11, 13]\n",
    "#L=[2, 4, 6, 8]"
   ]
  },
  {
   "cell_type": "code",
   "execution_count": 66,
   "id": "02029e58",
   "metadata": {},
   "outputs": [
    {
     "name": "stdout",
     "output_type": "stream",
     "text": [
      "48\n"
     ]
    }
   ],
   "source": [
    "#Program\n",
    "sum =0\n",
    "for item in L:\n",
    "    if item % 2 == 1:\n",
    "        sum += item\n",
    "print(sum)"
   ]
  },
  {
   "cell_type": "markdown",
   "id": "8f4aa51a",
   "metadata": {},
   "source": [
    "# 9. Find factorial of a number (Lab 3)"
   ]
  },
  {
   "cell_type": "code",
   "execution_count": 67,
   "id": "2c2907b8",
   "metadata": {},
   "outputs": [],
   "source": [
    "#Input\n",
    "N=4"
   ]
  },
  {
   "cell_type": "code",
   "execution_count": 68,
   "id": "2a2ee9d6",
   "metadata": {},
   "outputs": [
    {
     "name": "stdout",
     "output_type": "stream",
     "text": [
      "24\n"
     ]
    }
   ],
   "source": [
    "#Program\n",
    "factorial = 1\n",
    "for num in range(N):\n",
    "    factorial *= (num+1)\n",
    "print(factorial)"
   ]
  },
  {
   "cell_type": "markdown",
   "id": "ef09f543",
   "metadata": {},
   "source": [
    "# 10. Find all prime numbers less than a given N (Lab 3)"
   ]
  },
  {
   "cell_type": "code",
   "execution_count": 69,
   "id": "b858da65",
   "metadata": {},
   "outputs": [],
   "source": [
    "#Nested Loops:"
   ]
  },
  {
   "cell_type": "code",
   "execution_count": 70,
   "id": "0910787c",
   "metadata": {},
   "outputs": [],
   "source": [
    "#Functions"
   ]
  }
 ],
 "metadata": {
  "kernelspec": {
   "display_name": "Python 3 (ipykernel)",
   "language": "python",
   "name": "python3"
  },
  "language_info": {
   "codemirror_mode": {
    "name": "ipython",
    "version": 3
   },
   "file_extension": ".py",
   "mimetype": "text/x-python",
   "name": "python",
   "nbconvert_exporter": "python",
   "pygments_lexer": "ipython3",
   "version": "3.12.3"
  }
 },
 "nbformat": 4,
 "nbformat_minor": 5
}
